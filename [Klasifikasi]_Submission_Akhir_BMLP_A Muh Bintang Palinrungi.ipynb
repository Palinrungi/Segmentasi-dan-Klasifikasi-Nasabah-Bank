{
  "cells": [
    {
      "cell_type": "markdown",
      "metadata": {
        "id": "0tvAKGat01Sd"
      },
      "source": [
        "# **Penting**\n",
        "- Pastikan Anda melakukan Run All sebelum mengirimkan submission untuk memastikan seluruh cell berjalan dengan baik.\n",
        "- Hapus simbol pagar (#) jika Anda menerapkan kriteria tambahan\n",
        "- Biarkan simbol pagar (#) jika Anda tidak menerapkan kriteria tambahan"
      ]
    },
    {
      "cell_type": "markdown",
      "metadata": {
        "id": "fKADPWcFKlj3"
      },
      "source": [
        "# **1. Import Library**\n",
        "Pada tahap ini, Anda perlu mengimpor beberapa pustaka (library) Python yang dibutuhkan untuk analisis data dan pembangunan model machine learning."
      ]
    },
    {
      "cell_type": "code",
      "execution_count": 1,
      "metadata": {
        "id": "BlmvjLY9M4Yj"
      },
      "outputs": [],
      "source": [
        "import pandas as pd\n",
        "import numpy as np\n",
        "from sklearn.tree import DecisionTreeClassifier\n",
        "from sklearn.preprocessing import LabelEncoder\n",
        "from sklearn.model_selection import train_test_split\n",
        "from sklearn.metrics import accuracy_score, confusion_matrix, classification_report\n",
        "import joblib\n",
        "import seaborn as sns\n",
        "import matplotlib.pyplot as plt"
      ]
    },
    {
      "cell_type": "markdown",
      "metadata": {
        "id": "f3YIEnAFKrKL"
      },
      "source": [
        "# **2. Memuat Dataset dari Hasil Clustering**\n",
        "Memuat dataset hasil clustering dari file CSV ke dalam variabel DataFrame."
      ]
    },
    {
      "cell_type": "code",
      "execution_count": 2,
      "metadata": {
        "id": "GHCGNTyrM5fS"
      },
      "outputs": [],
      "source": [
        "# Gunakan dataset hasil clustering yang memiliki fitur Target\n",
        "# Silakan gunakan dataset data_clustering jika tidak menerapkan Interpretasi Hasil Clustering [Advanced]\n",
        "# Silakan gunakan dataset data_clustering_inverse jika menerapkan Interpretasi Hasil Clustering [Advanced]\n",
        "df = pd.read_csv(\"data_clustering_inverse.csv\")\n"
      ]
    },
    {
      "cell_type": "code",
      "execution_count": 3,
      "metadata": {
        "id": "bCsep0NZ0LUf"
      },
      "outputs": [
        {
          "data": {
            "text/html": [
              "<div>\n",
              "<style scoped>\n",
              "    .dataframe tbody tr th:only-of-type {\n",
              "        vertical-align: middle;\n",
              "    }\n",
              "\n",
              "    .dataframe tbody tr th {\n",
              "        vertical-align: top;\n",
              "    }\n",
              "\n",
              "    .dataframe thead th {\n",
              "        text-align: right;\n",
              "    }\n",
              "</style>\n",
              "<table border=\"1\" class=\"dataframe\">\n",
              "  <thead>\n",
              "    <tr style=\"text-align: right;\">\n",
              "      <th></th>\n",
              "      <th>TransactionAmount</th>\n",
              "      <th>TransactionType</th>\n",
              "      <th>CustomerAge</th>\n",
              "      <th>AccountBalance</th>\n",
              "      <th>Channel</th>\n",
              "      <th>CustomerOccupation</th>\n",
              "      <th>Target</th>\n",
              "    </tr>\n",
              "  </thead>\n",
              "  <tbody>\n",
              "    <tr>\n",
              "      <th>0</th>\n",
              "      <td>44.896593</td>\n",
              "      <td>Debit</td>\n",
              "      <td>70.0</td>\n",
              "      <td>50.598497</td>\n",
              "      <td>ATM</td>\n",
              "      <td>Doctor</td>\n",
              "      <td>2</td>\n",
              "    </tr>\n",
              "    <tr>\n",
              "      <th>1</th>\n",
              "      <td>52.042324</td>\n",
              "      <td>Debit</td>\n",
              "      <td>68.0</td>\n",
              "      <td>60.908340</td>\n",
              "      <td>ATM</td>\n",
              "      <td>Doctor</td>\n",
              "      <td>2</td>\n",
              "    </tr>\n",
              "    <tr>\n",
              "      <th>2</th>\n",
              "      <td>47.110457</td>\n",
              "      <td>Debit</td>\n",
              "      <td>19.0</td>\n",
              "      <td>45.841210</td>\n",
              "      <td>Online</td>\n",
              "      <td>Student</td>\n",
              "      <td>1</td>\n",
              "    </tr>\n",
              "    <tr>\n",
              "      <th>3</th>\n",
              "      <td>48.259023</td>\n",
              "      <td>Debit</td>\n",
              "      <td>26.0</td>\n",
              "      <td>54.720252</td>\n",
              "      <td>Online</td>\n",
              "      <td>Student</td>\n",
              "      <td>1</td>\n",
              "    </tr>\n",
              "    <tr>\n",
              "      <th>4</th>\n",
              "      <td>44.883965</td>\n",
              "      <td>Credit</td>\n",
              "      <td>45.0</td>\n",
              "      <td>53.361385</td>\n",
              "      <td>Online</td>\n",
              "      <td>Student</td>\n",
              "      <td>2</td>\n",
              "    </tr>\n",
              "  </tbody>\n",
              "</table>\n",
              "</div>"
            ],
            "text/plain": [
              "   TransactionAmount TransactionType  CustomerAge  AccountBalance Channel  \\\n",
              "0          44.896593           Debit         70.0       50.598497     ATM   \n",
              "1          52.042324           Debit         68.0       60.908340     ATM   \n",
              "2          47.110457           Debit         19.0       45.841210  Online   \n",
              "3          48.259023           Debit         26.0       54.720252  Online   \n",
              "4          44.883965          Credit         45.0       53.361385  Online   \n",
              "\n",
              "  CustomerOccupation  Target  \n",
              "0             Doctor       2  \n",
              "1             Doctor       2  \n",
              "2            Student       1  \n",
              "3            Student       1  \n",
              "4            Student       2  "
            ]
          },
          "execution_count": 3,
          "metadata": {},
          "output_type": "execute_result"
        }
      ],
      "source": [
        "# Tampilkan 5 baris pertama dengan function head.\n",
        "df.head()"
      ]
    },
    {
      "cell_type": "code",
      "execution_count": 5,
      "metadata": {},
      "outputs": [],
      "source": [
        "df2 = df.copy()"
      ]
    },
    {
      "cell_type": "markdown",
      "metadata": {
        "id": "KkPem5eWL2UP"
      },
      "source": [
        "# **3. Data Splitting**\n",
        "Tahap Data Splitting bertujuan untuk memisahkan dataset menjadi dua bagian: data latih (training set) dan data uji (test set)."
      ]
    },
    {
      "cell_type": "code",
      "execution_count": 6,
      "metadata": {},
      "outputs": [],
      "source": [
        "# Pisahkan fitur dan target\n",
        "X = df2.drop(columns=['Target'])  # Semua kolom kecuali Target\n",
        "y = df2['Target']  # Kolom Target (label cluster)"
      ]
    },
    {
      "cell_type": "code",
      "execution_count": 7,
      "metadata": {},
      "outputs": [
        {
          "name": "stdout",
          "output_type": "stream",
          "text": [
            "LabelEncoder untuk TransactionType disimpan ke 'label_encoder_TransactionType.pkl'\n",
            "LabelEncoder untuk Channel disimpan ke 'label_encoder_Channel.pkl'\n",
            "LabelEncoder untuk CustomerOccupation disimpan ke 'label_encoder_CustomerOccupation.pkl'\n"
          ]
        }
      ],
      "source": [
        "# Encoding fitur kategorikal\n",
        "# Asumsi fitur kategorikal: TransactionType, Channel, CustomerOccupation\n",
        "categorical_cols = ['TransactionType', 'Channel', 'CustomerOccupation']\n",
        "le_dict = {}  # Dictionary untuk menyimpan LabelEncoder per kolom\n",
        "\n",
        "for col in categorical_cols:\n",
        "    if col in X.columns:\n",
        "        le = LabelEncoder()\n",
        "        X[col] = le.fit_transform(X[col])\n",
        "        le_dict[col] = le  # Simpan encoder untuk penggunaan di masa depan\n",
        "    else:\n",
        "        print(f\"Kolom {col} tidak ditemukan di X\")\n",
        "\n",
        "# Simpan LabelEncoder untuk kategorikal\n",
        "for col, le in le_dict.items():\n",
        "    joblib.dump(le, f'label_encoder_{col}.pkl')\n",
        "    print(f\"LabelEncoder untuk {col} disimpan ke 'label_encoder_{col}.pkl'\")\n",
        "\n",
        "# Fitur numerik (tidak perlu scaling untuk Random Forest)\n",
        "numeric_cols = ['TransactionAmount', 'AccountBalance', 'CustomerAge']\n",
        "for col in numeric_cols:\n",
        "    if col not in X.columns:\n",
        "        print(f\"Kolom {col} tidak ditemukan di X\")"
      ]
    },
    {
      "cell_type": "code",
      "execution_count": 8,
      "metadata": {
        "id": "OubAW-7ONKVj"
      },
      "outputs": [
        {
          "name": "stdout",
          "output_type": "stream",
          "text": [
            "Ukuran data pelatihan: (2011, 6)\n",
            "Ukuran data pengujian: (503, 6)\n"
          ]
        }
      ],
      "source": [
        "# Menggunakan train_test_split() untuk melakukan pembagian dataset.\n",
        "X_train, X_test, y_train, y_test = train_test_split(X, y, test_size=0.2, random_state=0, stratify=y)\n",
        "print(f\"Ukuran data pelatihan: {X_train.shape}\")\n",
        "print(f\"Ukuran data pengujian: {X_test.shape}\")\n"
      ]
    },
    {
      "cell_type": "markdown",
      "metadata": {
        "id": "IVPbB03CMhTT"
      },
      "source": [
        "# **4. Membangun Model Klasifikasi**\n",
        "Setelah memilih algoritma klasifikasi yang sesuai, langkah selanjutnya adalah melatih model menggunakan data latih.\n",
        "\n",
        "Berikut adalah rekomendasi tahapannya.\n",
        "1. Menggunakan algoritma klasifikasi yaitu Decision Tree.\n",
        "2. Latih model menggunakan data yang sudah dipisah."
      ]
    },
    {
      "cell_type": "code",
      "execution_count": 9,
      "metadata": {
        "id": "4JYxBe87NLDk"
      },
      "outputs": [
        {
          "name": "stdout",
          "output_type": "stream",
          "text": [
            "Pelatihan model Decision Tree selesai\n"
          ]
        }
      ],
      "source": [
        "# Buatlah model klasifikasi menggunakan Decision Tree\n",
        "dt_model = DecisionTreeClassifier(random_state=0)\n",
        "dt_model.fit(X_train, y_train)\n",
        "print(\"Pelatihan model Decision Tree selesai\")"
      ]
    },
    {
      "cell_type": "code",
      "execution_count": 10,
      "metadata": {
        "id": "P_AakAxghYv-"
      },
      "outputs": [
        {
          "name": "stdout",
          "output_type": "stream",
          "text": [
            "Model Decision Tree disimpan ke 'decision_tree_model.h5'\n"
          ]
        }
      ],
      "source": [
        "# Menyimpan Model\n",
        "# import joblib\n",
        "# joblib.dump(model, 'decision_tree_model.h5')\n",
        "joblib.dump(dt_model, 'decision_tree_model.h5')\n",
        "print(\"Model Decision Tree disimpan ke 'decision_tree_model.h5'\")"
      ]
    },
    {
      "cell_type": "markdown",
      "metadata": {
        "id": "epO4HhrzBXMg"
      },
      "source": [
        "# **5. Memenuhi Kriteria Skilled dan Advanced dalam Membangun Model Klasifikasi**\n",
        "\n"
      ]
    },
    {
      "cell_type": "markdown",
      "metadata": {
        "id": "DNOEZk24uiXu"
      },
      "source": [
        "**Biarkan kosong jika tidak menerapkan kriteria skilled atau advanced**"
      ]
    },
    {
      "cell_type": "code",
      "execution_count": 11,
      "metadata": {
        "id": "kB_8LIWMATl6"
      },
      "outputs": [
        {
          "name": "stdout",
          "output_type": "stream",
          "text": [
            "Pelatihan model Random Forest selesai\n"
          ]
        }
      ],
      "source": [
        "# Melatih model menggunakan algoritma klasifikasi selain Decision Tree.\n",
        "from sklearn.ensemble import RandomForestClassifier\n",
        "\n",
        "rf_model = RandomForestClassifier(n_estimators=100, random_state=0)\n",
        "rf_model.fit(X_train, y_train)\n",
        "print(\"Pelatihan model Random Forest selesai\")"
      ]
    },
    {
      "cell_type": "code",
      "execution_count": 22,
      "metadata": {},
      "outputs": [
        {
          "name": "stdout",
          "output_type": "stream",
          "text": [
            "\n",
            "--- Evaluasi Decision Tree ---\n",
            "Classification Report:\n",
            "              precision    recall  f1-score   support\n",
            "\n",
            "           0       0.98      0.99      0.99       100\n",
            "           1       1.00      1.00      1.00       132\n",
            "           2       0.99      0.96      0.98        84\n",
            "           3       0.99      1.00      1.00       187\n",
            "\n",
            "    accuracy                           0.99       503\n",
            "   macro avg       0.99      0.99      0.99       503\n",
            "weighted avg       0.99      0.99      0.99       503\n",
            "\n"
          ]
        }
      ],
      "source": [
        "# --- Evaluasi Decision Tree ---\n",
        "from sklearn.metrics import accuracy_score, precision_score, recall_score, f1_score, classification_report\n",
        "import seaborn as sns\n",
        "\n",
        "print(\"\\n--- Evaluasi Decision Tree ---\")\n",
        "# Prediksi\n",
        "y_pred = dt_model.predict(X_test)\n",
        "\n",
        "# Evaluasi metrik\n",
        "accuracy = accuracy_score(y_test, y_pred)\n",
        "precision = precision_score(y_test, y_pred, average=None)  # Per kelas\n",
        "recall = recall_score(y_test, y_pred, average=None)  # Per kelas\n",
        "f1 = f1_score(y_test, y_pred, average=None)  # Per kelas\n",
        "\n",
        "# Simpan hasil per kelas\n",
        "results = []\n",
        "for i, class_label in enumerate(np.unique(y)):\n",
        "    results.append({\n",
        "        'Model': ['Decision Tree'],\n",
        "        'Class': [class_label],\n",
        "        'Accuracy': [accuracy],\n",
        "        'Precision': [precision[i]],\n",
        "        'Recall': [recall[i]],\n",
        "        'F1-Score': [f1[i]]\n",
        "    })\n",
        "\n",
        "# Cetak classification report\n",
        "print(\"Classification Report:\")\n",
        "print(classification_report(y_test, y_pred))\n",
        "\n",
        "\n"
      ]
    },
    {
      "cell_type": "code",
      "execution_count": 23,
      "metadata": {
        "id": "bRlKm5BVAT91"
      },
      "outputs": [
        {
          "name": "stdout",
          "output_type": "stream",
          "text": [
            "\n",
            "--- Evaluasi Random Forest ---\n",
            "Classification Report:\n",
            "              precision    recall  f1-score   support\n",
            "\n",
            "           0       1.00      1.00      1.00       100\n",
            "           1       1.00      1.00      1.00       132\n",
            "           2       1.00      0.95      0.98        84\n",
            "           3       0.98      1.00      0.99       187\n",
            "\n",
            "    accuracy                           0.99       503\n",
            "   macro avg       0.99      0.99      0.99       503\n",
            "weighted avg       0.99      0.99      0.99       503\n",
            "\n"
          ]
        }
      ],
      "source": [
        "# Menampilkan hasil evaluasi akurasi, presisi, recall, dan F1-Score pada seluruh algoritma yang sudah dibuat.\n",
        "# Evaluasi metrik\n",
        "from sklearn.metrics import accuracy_score, precision_score, recall_score, f1_score, classification_report\n",
        "\n",
        "# --- Evaluasi Random Forest ---\n",
        "print(\"\\n--- Evaluasi Random Forest ---\")\n",
        "# Prediksi)\n",
        "y_pred = rf_model.predict(X_test)\n",
        "\n",
        "# Evaluasi metrik\n",
        "accuracy = accuracy_score(y_test, y_pred)\n",
        "precision = precision_score(y_test, y_pred, average=None)  # Per kelas\n",
        "recall = recall_score(y_test, y_pred, average=None)  # Per kelas\n",
        "f1 = f1_score(y_test, y_pred, average=None)  # Per kelas\n",
        "\n",
        "# Simpan hasil per kelas\n",
        "results = []\n",
        "for i, class_label in enumerate(np.unique(y)):\n",
        "    results.append({\n",
        "        'Model': ['Random Forest'],\n",
        "        'Class': [class_label],\n",
        "        'Accuracy': [accuracy],\n",
        "        'Precision': [precision[i]],\n",
        "        'Recall': [recall[i]],\n",
        "        'F1-Score': [f1[i]]\n",
        "    })\n",
        "\n",
        "# Cetak classification report\n",
        "print(\"Classification Report:\")\n",
        "print(classification_report(y_test, y_pred))\n",
        "\n"
      ]
    },
    {
      "cell_type": "code",
      "execution_count": 24,
      "metadata": {
        "id": "dUPItkbXBNkO"
      },
      "outputs": [
        {
          "name": "stdout",
          "output_type": "stream",
          "text": [
            "Model Decision Tree disimpan ke 'explore_random_forest_classification.h5'\n"
          ]
        }
      ],
      "source": [
        "# Menyimpan Model Selain Decision Tree\n",
        "# Model ini bisa lebih dari satu\n",
        "# import joblib\n",
        "# joblib.dump(___, 'explore_<Nama Algoritma>_classification.h5')\n",
        "joblib.dump(rf_model, 'explore_random_forest_classification.h5')\n",
        "print(\"Model Decision Tree disimpan ke 'explore_random_forest_classification.h5'\")"
      ]
    },
    {
      "cell_type": "markdown",
      "metadata": {
        "id": "u23H2guj-h9h"
      },
      "source": [
        "Hyperparameter Tuning Model\n",
        "\n",
        "Pilih salah satu algoritma yang ingin Anda tuning"
      ]
    },
    {
      "cell_type": "code",
      "execution_count": null,
      "metadata": {
        "id": "dFCTxJJq-m-l"
      },
      "outputs": [],
      "source": [
        "# Lakukan Hyperparameter Tuning dan Latih ulang."
      ]
    },
    {
      "cell_type": "code",
      "execution_count": null,
      "metadata": {
        "id": "1g6EPSSWxjcQ"
      },
      "outputs": [],
      "source": [
        "# Menampilkan hasil evaluasi akurasi, presisi, recall, dan F1-Score pada algoritma yang sudah dituning."
      ]
    },
    {
      "cell_type": "code",
      "execution_count": null,
      "metadata": {
        "id": "7UJNcVP--n7S"
      },
      "outputs": [],
      "source": [
        "# Menyimpan Model hasil tuning\n",
        "# import joblib\n",
        "# joblib.dump(model_dt, 'tuning_classification.h5')"
      ]
    }
  ],
  "metadata": {
    "colab": {
      "provenance": []
    },
    "kernelspec": {
      "display_name": "Latihan1",
      "language": "python",
      "name": "python3"
    },
    "language_info": {
      "codemirror_mode": {
        "name": "ipython",
        "version": 3
      },
      "file_extension": ".py",
      "mimetype": "text/x-python",
      "name": "python",
      "nbconvert_exporter": "python",
      "pygments_lexer": "ipython3",
      "version": "3.12.9"
    }
  },
  "nbformat": 4,
  "nbformat_minor": 0
}
